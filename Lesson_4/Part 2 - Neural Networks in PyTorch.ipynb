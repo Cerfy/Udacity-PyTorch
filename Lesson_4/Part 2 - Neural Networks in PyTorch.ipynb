{
 "cells": [
  {
   "cell_type": "markdown",
   "metadata": {},
   "source": [
    "# Neural networks with PyTorch\n",
    "\n",
    "Deep learning networks tend to be massive with dozens or hundreds of layers, that's where the term \"deep\" comes from. You can build one of these deep networks using only weight matrices as we did in the previous notebook, but in general it's very cumbersome and difficult to implement. PyTorch has a nice module `nn` that provides a nice way to efficiently build large neural networks."
   ]
  },
  {
   "cell_type": "code",
   "execution_count": 19,
   "metadata": {},
   "outputs": [],
   "source": [
    "# Import necessary packages\n",
    "\n",
    "%matplotlib inline\n",
    "%config InlineBackend.figure_format = 'retina'\n",
    "\n",
    "import sys\n",
    "sys.path.append('.')\n",
    "\n",
    "import numpy as np\n",
    "import torch\n",
    "\n",
    "import helper\n",
    "\n",
    "import matplotlib.pyplot as plt"
   ]
  },
  {
   "cell_type": "markdown",
   "metadata": {},
   "source": [
    "\n",
    "Now we're going to build a larger network that can solve a (formerly) difficult problem, identifying text in an image. Here we'll use the MNIST dataset which consists of greyscale handwritten digits. Each image is 28x28 pixels, you can see a sample below\n",
    "\n",
    "<img src='assets/mnist.png'>\n",
    "\n",
    "Our goal is to build a neural network that can take one of these images and predict the digit in the image.\n",
    "\n",
    "First up, we need to get our dataset. This is provided through the `torchvision` package. The code below will download the MNIST dataset, then create training and test datasets for us. Don't worry too much about the details here, you'll learn more about this later."
   ]
  },
  {
   "cell_type": "code",
   "execution_count": 20,
   "metadata": {},
   "outputs": [],
   "source": [
    "### Run this cell\n",
    "\n",
    "from torchvision import datasets, transforms\n",
    "\n",
    "# Define a transform to normalize the data\n",
    "transform = transforms.Compose([transforms.ToTensor(),\n",
    "                              transforms.Normalize((0.5,), (0.5,)),\n",
    "                              ])\n",
    "\n",
    "# Download and load the training data\n",
    "trainset = datasets.MNIST('~/.pytorch/MNIST_data/', download=True, train=True, transform=transform)\n",
    "trainloader = torch.utils.data.DataLoader(trainset, batch_size=64, shuffle=True)"
   ]
  },
  {
   "cell_type": "markdown",
   "metadata": {},
   "source": [
    "We have the training data loaded into `trainloader` and we make that an iterator with `iter(trainloader)`. Later, we'll use this to loop through the dataset for training, like\n",
    "\n",
    "```python\n",
    "for image, label in trainloader:\n",
    "    ## do things with images and labels\n",
    "```\n",
    "\n",
    "You'll notice I created the `trainloader` with a batch size of 64, and `shuffle=True`. The batch size is the number of images we get in one iteration from the data loader and pass through our network, often called a *batch*. And `shuffle=True` tells it to shuffle the dataset every time we start going through the data loader again. But here I'm just grabbing the first batch so we can check out the data. We can see below that `images` is just a tensor with size `(64, 1, 28, 28)`. So, 64 images per batch, 1 color channel, and 28x28 images."
   ]
  },
  {
   "cell_type": "code",
   "execution_count": 21,
   "metadata": {},
   "outputs": [
    {
     "name": "stdout",
     "output_type": "stream",
     "text": [
      "<class 'torch.Tensor'>\n",
      "torch.Size([64, 1, 28, 28])\n",
      "torch.Size([64])\n"
     ]
    }
   ],
   "source": [
    "dataiter = iter(trainloader)\n",
    "images, labels = dataiter.next() # Loads the first batch\n",
    "print(type(images))\n",
    "print(images.shape)\n",
    "print(labels.shape)\n"
   ]
  },
  {
   "cell_type": "markdown",
   "metadata": {},
   "source": [
    "This is what one of the images looks like. "
   ]
  },
  {
   "cell_type": "code",
   "execution_count": 22,
   "metadata": {},
   "outputs": [
    {
     "data": {
      "image/png": "[encoded data removed]",
      "text/plain": [
       "<Figure size 432x288 with 1 Axes>"
      ]
     },
     "metadata": {
      "image/png": {
       "height": 250,
       "width": 253
      },
      "needs_background": "light"
     },
     "output_type": "display_data"
    }
   ],
   "source": [
    "plt.imshow(images[1].numpy().squeeze(), cmap='Greys_r'); # Squeeze removes dimensions with 1s # Index image [0] gives another image"
   ]
  },
  {
   "cell_type": "markdown",
   "metadata": {},
   "source": [
    "First, let's try to build a simple network for this dataset using weight matrices and matrix multiplications. Then, we'll see how to do it using PyTorch's `nn` module which provides a much more convenient and powerful method for defining network architectures.\n",
    "\n",
    "The networks you've seen so far are called *fully-connected* or *dense* networks. Each unit in one layer is connected to each unit in the next layer. In fully-connected networks, the input to each layer must be a one-dimensional vector (which can be stacked into a 2D tensor as a batch of multiple examples). However, our images are 28x28 2D tensors, so we need to convert them into 1D vectors. Thinking about sizes, we need to convert the batch of images with shape `(64, 1, 28, 28)` to a have a shape of `(64, 784)`, 784 is 28 times 28. This is typically called *flattening*, we flattened the 2D images into 1D vectors.\n",
    "\n",
    "Previously you built a network with one output unit. Here we need 10 output units, one for each digit. We want our network to predict the digit shown in an image, so what we'll do is calculate probabilities that the image is of any one digit or class. This ends up being a discrete probability distribution over the classes (digits) that tells us the most likely class for the image. That means we need 10 output units for the 10 classes (digits). We'll see how to convert the network output into a probability distribution next.\n",
    "\n",
    "> **Exercise:** Flatten the batch of images `images`. Then build a multi-layer network with 784 input units, 256 hidden units, and 10 output units using random tensors for the weights and biases. For now, use a sigmoid activation for the hidden layer. Leave the output layer without an activation, we'll add one that gives us a probability distribution next."
   ]
  },
  {
   "cell_type": "code",
   "execution_count": 23,
   "metadata": {},
   "outputs": [
    {
     "name": "stdout",
     "output_type": "stream",
     "text": [
      "torch.Size([64, 10])\n"
     ]
    }
   ],
   "source": [
    "n_input = 784 # Number of input units\n",
    "n_hidden = 256 # Number of Hidden units\n",
    "n_output = 10 # Number of output units\n",
    "\n",
    "\n",
    "W1 = torch.randn(n_input, n_hidden) # Weights from input layer to hidden\n",
    "W2 = torch.randn(n_hidden, n_output) # Weights from hidden layer to output\n",
    "\n",
    "B1 = torch.randn(64, n_hidden)\n",
    "B2 = torch.randn(64, n_output)\n",
    "\n",
    "flatten_image = images.view(64, 784)\n",
    "\n",
    "def sig_activation(x):\n",
    "    return 1/(1 + torch.exp(-x))\n",
    "\n",
    "H1 = sig_activation(torch.mm(flatten_image, W1) + B1)\n",
    "out = sig_activation(torch.mm(H1, W2) + B2)\n",
    "print(out.shape) # output of your network, should have shape (64,10)"
   ]
  },
  {
   "cell_type": "markdown",
   "metadata": {},
   "source": [
    "Now we have 10 outputs for our network. We want to pass in an image to our network and get out a probability distribution over the classes that tells us the likely class(es) the image belongs to. Something that looks like this:\n",
    "<img src='assets/image_distribution.png' width=500px>\n",
    "\n",
    "Here we see that the probability for each class is roughly the same. This is representing an untrained network, it hasn't seen any data yet so it just returns a uniform distribution with equal probabilities for each class.\n",
    "\n",
    "To calculate this probability distribution, we often use the [**softmax** function](https://en.wikipedia.org/wiki/Softmax_function). Mathematically this looks like\n",
    "\n",
    "$$\n",
    "\\Large \\sigma(x_i) = \\cfrac{e^{x_i}}{\\sum_k^K{e^{x_k}}}\n",
    "$$\n",
    "\n",
    "What this does is squish each input $x_i$ between 0 and 1 and normalizes the values to give you a proper probability distribution where the probabilites sum up to one.\n",
    "\n",
    "> **Exercise:** Implement a function `softmax` that performs the softmax calculation and returns probability distributions for each example in the batch. Note that you'll need to pay attention to the shapes when doing this. If you have a tensor `a` with shape `(64, 10)` and a tensor `b` with shape `(64,)`, doing `a/b` will give you an error because PyTorch will try to do the division across the columns (called broadcasting) but you'll get a size mismatch. The way to think about this is for each of the 64 examples, you only want to divide by one value, the sum in the denominator. So you need `b` to have a shape of `(64, 1)`. This way PyTorch will divide the 10 values in each row of `a` by the one value in each row of `b`. Pay attention to how you take the sum as well. You'll need to define the `dim` keyword in `torch.sum`. Setting `dim=0` takes the sum across the rows while `dim=1` takes the sum across the columns."
   ]
  },
  {
   "cell_type": "code",
   "execution_count": 24,
   "metadata": {},
   "outputs": [
    {
     "name": "stdout",
     "output_type": "stream",
     "text": [
      "torch.Size([64])\n"
     ]
    }
   ],
   "source": [
    "print(torch.sum(torch.exp(out), dim=1).shape)"
   ]
  },
  {
   "cell_type": "code",
   "execution_count": 25,
   "metadata": {},
   "outputs": [
    {
     "name": "stdout",
     "output_type": "stream",
     "text": [
      "tensor([[0.0601, 0.1005, 0.1519, 0.0602, 0.0601, 0.0759, 0.1420, 0.1634, 0.1251,\n",
      "         0.0609],\n",
      "        [0.0583, 0.1576, 0.0639, 0.1585, 0.0583, 0.0817, 0.1585, 0.1465, 0.0583,\n",
      "         0.0583],\n",
      "        [0.0741, 0.1668, 0.0744, 0.0741, 0.0740, 0.0923, 0.0740, 0.2008, 0.0740,\n",
      "         0.0957],\n",
      "        [0.0672, 0.1826, 0.0673, 0.0672, 0.0672, 0.0673, 0.0672, 0.1662, 0.1804,\n",
      "         0.0674],\n",
      "        [0.0729, 0.1958, 0.0723, 0.0722, 0.0737, 0.0781, 0.0932, 0.1950, 0.0744,\n",
      "         0.0722],\n",
      "        [0.1217, 0.1061, 0.0811, 0.0812, 0.0811, 0.1002, 0.1849, 0.0817, 0.0811,\n",
      "         0.0811],\n",
      "        [0.0709, 0.1928, 0.0709, 0.0715, 0.0714, 0.0720, 0.1848, 0.1103, 0.0845,\n",
      "         0.0709],\n",
      "        [0.0812, 0.1240, 0.0931, 0.0806, 0.0807, 0.0806, 0.0806, 0.2178, 0.0806,\n",
      "         0.0806],\n",
      "        [0.0766, 0.1030, 0.0766, 0.0766, 0.0786, 0.0766, 0.1934, 0.0871, 0.0941,\n",
      "         0.1376],\n",
      "        [0.0587, 0.1592, 0.0587, 0.1589, 0.0586, 0.1587, 0.1586, 0.0601, 0.0588,\n",
      "         0.0697],\n",
      "        [0.0742, 0.1995, 0.0735, 0.0734, 0.0865, 0.0734, 0.0734, 0.1991, 0.0734,\n",
      "         0.0734],\n",
      "        [0.0599, 0.0599, 0.0599, 0.1549, 0.0599, 0.0601, 0.1627, 0.1618, 0.1613,\n",
      "         0.0599],\n",
      "        [0.1083, 0.1748, 0.0779, 0.0686, 0.0685, 0.0935, 0.0851, 0.1860, 0.0687,\n",
      "         0.0685],\n",
      "        [0.0798, 0.0822, 0.0798, 0.1788, 0.0798, 0.0930, 0.1407, 0.0798, 0.0798,\n",
      "         0.1063],\n",
      "        [0.0737, 0.1650, 0.0736, 0.0755, 0.0745, 0.0736, 0.0736, 0.1167, 0.2000,\n",
      "         0.0737],\n",
      "        [0.0613, 0.1644, 0.0614, 0.0618, 0.0613, 0.1660, 0.1313, 0.0648, 0.1655,\n",
      "         0.0621],\n",
      "        [0.0756, 0.0753, 0.0823, 0.0752, 0.0748, 0.0748, 0.1879, 0.2033, 0.0748,\n",
      "         0.0760],\n",
      "        [0.0733, 0.0822, 0.0832, 0.0734, 0.0741, 0.1944, 0.0733, 0.1993, 0.0734,\n",
      "         0.0733],\n",
      "        [0.0643, 0.1031, 0.0723, 0.0696, 0.0642, 0.1571, 0.1744, 0.1638, 0.0669,\n",
      "         0.0643],\n",
      "        [0.0739, 0.0809, 0.1935, 0.0739, 0.0739, 0.0809, 0.2007, 0.0743, 0.0739,\n",
      "         0.0739],\n",
      "        [0.0764, 0.2077, 0.0774, 0.0764, 0.0764, 0.0764, 0.0770, 0.1695, 0.0863,\n",
      "         0.0764],\n",
      "        [0.0709, 0.1926, 0.0711, 0.0709, 0.0709, 0.0710, 0.0709, 0.1774, 0.1332,\n",
      "         0.0709],\n",
      "        [0.0589, 0.1600, 0.0710, 0.0591, 0.0617, 0.1593, 0.1519, 0.1602, 0.0589,\n",
      "         0.0589],\n",
      "        [0.0633, 0.0634, 0.0635, 0.1344, 0.1520, 0.0668, 0.1651, 0.1640, 0.0643,\n",
      "         0.0633],\n",
      "        [0.0695, 0.0887, 0.0695, 0.0695, 0.0696, 0.0774, 0.1769, 0.1888, 0.1206,\n",
      "         0.0696],\n",
      "        [0.0541, 0.1431, 0.1301, 0.0650, 0.0541, 0.0546, 0.1468, 0.1471, 0.1468,\n",
      "         0.0583],\n",
      "        [0.0672, 0.1818, 0.0672, 0.0696, 0.0675, 0.0672, 0.0725, 0.1653, 0.0974,\n",
      "         0.1443],\n",
      "        [0.0900, 0.2244, 0.0931, 0.0827, 0.0826, 0.0829, 0.0826, 0.0967, 0.0826,\n",
      "         0.0826],\n",
      "        [0.0690, 0.1479, 0.0704, 0.0694, 0.0690, 0.0690, 0.0692, 0.1874, 0.1797,\n",
      "         0.0690],\n",
      "        [0.0582, 0.1458, 0.0587, 0.0586, 0.0620, 0.0581, 0.1569, 0.1580, 0.1522,\n",
      "         0.0914],\n",
      "        [0.0594, 0.0594, 0.0594, 0.1554, 0.1594, 0.0594, 0.1514, 0.1614, 0.0595,\n",
      "         0.0754],\n",
      "        [0.0622, 0.1691, 0.0623, 0.0623, 0.0623, 0.1674, 0.0625, 0.1691, 0.1197,\n",
      "         0.0630],\n",
      "        [0.0695, 0.1889, 0.1240, 0.0695, 0.0695, 0.0695, 0.0778, 0.1888, 0.0731,\n",
      "         0.0695],\n",
      "        [0.0772, 0.0772, 0.0790, 0.0772, 0.0775, 0.1765, 0.0773, 0.2003, 0.0772,\n",
      "         0.0806],\n",
      "        [0.0595, 0.1587, 0.1579, 0.0595, 0.0632, 0.0597, 0.0595, 0.1616, 0.1610,\n",
      "         0.0594],\n",
      "        [0.0713, 0.1775, 0.0654, 0.1589, 0.0860, 0.0654, 0.1351, 0.0942, 0.0654,\n",
      "         0.0808],\n",
      "        [0.0659, 0.1680, 0.1210, 0.0659, 0.0669, 0.1135, 0.0881, 0.1790, 0.0659,\n",
      "         0.0659],\n",
      "        [0.0814, 0.1956, 0.0895, 0.0814, 0.0815, 0.1432, 0.0830, 0.0814, 0.0814,\n",
      "         0.0816],\n",
      "        [0.0695, 0.1725, 0.0676, 0.0819, 0.0676, 0.1386, 0.0955, 0.1716, 0.0676,\n",
      "         0.0676],\n",
      "        [0.0666, 0.1743, 0.0642, 0.0641, 0.0641, 0.1712, 0.1031, 0.1634, 0.0648,\n",
      "         0.0641],\n",
      "        [0.0633, 0.1022, 0.0633, 0.0638, 0.0766, 0.1710, 0.0656, 0.1720, 0.1590,\n",
      "         0.0633],\n",
      "        [0.0842, 0.0843, 0.0977, 0.0842, 0.0842, 0.0842, 0.0842, 0.2288, 0.0842,\n",
      "         0.0842],\n",
      "        [0.0730, 0.0731, 0.0730, 0.1985, 0.0731, 0.0730, 0.0735, 0.1968, 0.0767,\n",
      "         0.0892],\n",
      "        [0.0662, 0.1799, 0.0663, 0.0720, 0.0662, 0.0662, 0.1702, 0.1800, 0.0667,\n",
      "         0.0662],\n",
      "        [0.0828, 0.2252, 0.1040, 0.0843, 0.0839, 0.0829, 0.0834, 0.0878, 0.0828,\n",
      "         0.0828],\n",
      "        [0.0674, 0.1804, 0.0674, 0.0674, 0.0693, 0.1589, 0.0711, 0.1832, 0.0675,\n",
      "         0.0674],\n",
      "        [0.0518, 0.1408, 0.1408, 0.0984, 0.0536, 0.1182, 0.1408, 0.1408, 0.0627,\n",
      "         0.0520],\n",
      "        [0.0708, 0.1221, 0.0708, 0.0708, 0.0708, 0.0708, 0.0708, 0.1922, 0.1903,\n",
      "         0.0708],\n",
      "        [0.0613, 0.1470, 0.0697, 0.1136, 0.0615, 0.0866, 0.0845, 0.1665, 0.1468,\n",
      "         0.0624],\n",
      "        [0.0623, 0.1693, 0.0623, 0.1692, 0.0623, 0.0648, 0.1620, 0.1090, 0.0624,\n",
      "         0.0765],\n",
      "        [0.0609, 0.1647, 0.0610, 0.0619, 0.0642, 0.1352, 0.1654, 0.1650, 0.0609,\n",
      "         0.0609],\n",
      "        [0.0704, 0.1750, 0.0659, 0.0644, 0.0644, 0.1731, 0.0840, 0.1731, 0.0651,\n",
      "         0.0646],\n",
      "        [0.0773, 0.2090, 0.1198, 0.0769, 0.0769, 0.0853, 0.0771, 0.1238, 0.0769,\n",
      "         0.0769],\n",
      "        [0.0734, 0.0733, 0.0733, 0.0816, 0.0785, 0.0738, 0.1846, 0.1993, 0.0734,\n",
      "         0.0888],\n",
      "        [0.0630, 0.0641, 0.1602, 0.0632, 0.0630, 0.1223, 0.1712, 0.1672, 0.0630,\n",
      "         0.0630],\n",
      "        [0.0678, 0.0678, 0.0678, 0.1672, 0.0689, 0.0678, 0.1728, 0.1843, 0.0678,\n",
      "         0.0678],\n",
      "        [0.0656, 0.1770, 0.0657, 0.0754, 0.0656, 0.0656, 0.1741, 0.1783, 0.0657,\n",
      "         0.0670],\n",
      "        [0.0666, 0.1776, 0.0666, 0.0666, 0.0666, 0.0671, 0.0666, 0.1810, 0.1624,\n",
      "         0.0787],\n",
      "        [0.0772, 0.2097, 0.0772, 0.0772, 0.0773, 0.0772, 0.0843, 0.0786, 0.0923,\n",
      "         0.1492],\n",
      "        [0.0701, 0.1886, 0.0835, 0.0694, 0.0694, 0.1352, 0.0696, 0.1751, 0.0694,\n",
      "         0.0698],\n",
      "        [0.0732, 0.1985, 0.0732, 0.0730, 0.0730, 0.0804, 0.0730, 0.1985, 0.0841,\n",
      "         0.0730],\n",
      "        [0.0572, 0.1499, 0.0572, 0.0715, 0.0660, 0.1094, 0.1548, 0.1237, 0.1530,\n",
      "         0.0573],\n",
      "        [0.0674, 0.1319, 0.0674, 0.1299, 0.0712, 0.0751, 0.1829, 0.1382, 0.0687,\n",
      "         0.0673],\n",
      "        [0.0612, 0.0913, 0.1660, 0.1030, 0.1595, 0.0689, 0.0612, 0.1662, 0.0615,\n",
      "         0.0612]])\n",
      "torch.Size([64, 10])\n",
      "tensor([1.0000, 1.0000, 1.0000, 1.0000, 1.0000, 1.0000, 1.0000, 1.0000, 1.0000,\n",
      "        1.0000, 1.0000, 1.0000, 1.0000, 1.0000, 1.0000, 1.0000, 1.0000, 1.0000,\n",
      "        1.0000, 1.0000, 1.0000, 1.0000, 1.0000, 1.0000, 1.0000, 1.0000, 1.0000,\n",
      "        1.0000, 1.0000, 1.0000, 1.0000, 1.0000, 1.0000, 1.0000, 1.0000, 1.0000,\n",
      "        1.0000, 1.0000, 1.0000, 1.0000, 1.0000, 1.0000, 1.0000, 1.0000, 1.0000,\n",
      "        1.0000, 1.0000, 1.0000, 1.0000, 1.0000, 1.0000, 1.0000, 1.0000, 1.0000,\n",
      "        1.0000, 1.0000, 1.0000, 1.0000, 1.0000, 1.0000, 1.0000, 1.0000, 1.0000,\n",
      "        1.0000])\n",
      "torch.Size([64])\n"
     ]
    }
   ],
   "source": [
    "def softmax(x):\n",
    "    return torch.exp(x)/(torch.sum(torch.exp(x), dim=1)).view(-1, 1)\n",
    "\n",
    "\n",
    "# Here, out should be the output of the network in the previous excercise with shape (64,10)\n",
    "probabilities = softmax(out)\n",
    "\n",
    "# Does it have the right shape? Should be (64, 10)\n",
    "print(probabilities)\n",
    "print(probabilities.shape)\n",
    "# Does it sum to 1? YES!\n",
    "print(probabilities.sum(dim=1))\n",
    "print(probabilities.sum(dim=1).shape)"
   ]
  },
  {
   "cell_type": "markdown",
   "metadata": {},
   "source": [
    "## Building networks with PyTorch\n",
    "\n",
    "PyTorch provides a module `nn` that makes building networks much simpler. Here I'll show you how to build the same one as above with 784 inputs, 256 hidden units, 10 output units and a softmax output."
   ]
  },
  {
   "cell_type": "code",
   "execution_count": 26,
   "metadata": {},
   "outputs": [],
   "source": [
    "from torch import nn"
   ]
  },
  {
   "cell_type": "code",
   "execution_count": 27,
   "metadata": {},
   "outputs": [],
   "source": [
    "class Network(nn.Module):\n",
    "    def __init__(self):\n",
    "        super().__init__()\n",
    "        \n",
    "        # Inputs to hidden layer linear transformation\n",
    "        self.hidden = nn.Linear(784, 256)\n",
    "        # Output layer, 10 units - one for each digit\n",
    "        self.output = nn.Linear(256, 10)\n",
    "        \n",
    "        # Define sigmoid activation and softmax output \n",
    "        self.sigmoid = nn.Sigmoid()\n",
    "        self.softmax = nn.Softmax(dim=1)\n",
    "        \n",
    "    def forward(self, x):\n",
    "        # Pass the input tensor through each of our operations\n",
    "        x = self.hidden(x)\n",
    "        x = self.sigmoid(x)\n",
    "        x = self.output(x)\n",
    "        x = self.softmax(x)\n",
    "        \n",
    "        return x"
   ]
  },
  {
   "cell_type": "markdown",
   "metadata": {},
   "source": [
    "Let's go through this bit by bit.\n",
    "\n",
    "```python\n",
    "class Network(nn.Module):\n",
    "```\n",
    "\n",
    "Here we're inheriting from `nn.Module`. Combined with `super().__init__()` this creates a class that tracks the architecture and provides a lot of useful methods and attributes. It is mandatory to inherit from `nn.Module` when you're creating a class for your network. The name of the class itself can be anything.\n",
    "\n",
    "```python\n",
    "self.hidden = nn.Linear(784, 256)\n",
    "```\n",
    "\n",
    "This line creates a module for a linear transformation, $x\\mathbf{W} + b$, with 784 inputs and 256 outputs and assigns it to `self.hidden`. The module automatically creates the weight and bias tensors which we'll use in the `forward` method. You can access the weight and bias tensors once the network (`net`) is created with `net.hidden.weight` and `net.hidden.bias`.\n",
    "\n",
    "```python\n",
    "self.output = nn.Linear(256, 10)\n",
    "```\n",
    "\n",
    "Similarly, this creates another linear transformation with 256 inputs and 10 outputs.\n",
    "\n",
    "```python\n",
    "self.sigmoid = nn.Sigmoid()\n",
    "self.softmax = nn.Softmax(dim=1)\n",
    "```\n",
    "\n",
    "Here I defined operations for the sigmoid activation and softmax output. Setting `dim=1` in `nn.Softmax(dim=1)` calculates softmax across the columns.\n",
    "\n",
    "```python\n",
    "def forward(self, x):\n",
    "```\n",
    "\n",
    "PyTorch networks created with `nn.Module` must have a `forward` method defined. It takes in a tensor `x` and passes it through the operations you defined in the `__init__` method.\n",
    "\n",
    "```python\n",
    "x = self.hidden(x)\n",
    "x = self.sigmoid(x)\n",
    "x = self.output(x)\n",
    "x = self.softmax(x)\n",
    "```\n",
    "\n",
    "Here the input tensor `x` is passed through each operation a reassigned to `x`. We can see that the input tensor goes through the hidden layer, then a sigmoid function, then the output layer, and finally the softmax function. It doesn't matter what you name the variables here, as long as the inputs and outputs of the operations match the network architecture you want to build. The order in which you define things in the `__init__` method doesn't matter, but you'll need to sequence the operations correctly in the `forward` method.\n",
    "\n",
    "Now we can create a `Network` object."
   ]
  },
  {
   "cell_type": "code",
   "execution_count": 28,
   "metadata": {},
   "outputs": [
    {
     "data": {
      "text/plain": [
       "Network(\n",
       "  (hidden): Linear(in_features=784, out_features=256, bias=True)\n",
       "  (output): Linear(in_features=256, out_features=10, bias=True)\n",
       "  (sigmoid): Sigmoid()\n",
       "  (softmax): Softmax()\n",
       ")"
      ]
     },
     "execution_count": 28,
     "metadata": {},
     "output_type": "execute_result"
    }
   ],
   "source": [
    "# Create the network and look at it's text representation\n",
    "model = Network()\n",
    "model"
   ]
  },
  {
   "cell_type": "markdown",
   "metadata": {},
   "source": [
    "You can define the network somewhat more concisely and clearly using the `torch.nn.functional` module. This is the most common way you'll see networks defined as many operations are simple element-wise functions. We normally import this module as `F`, `import torch.nn.functional as F`."
   ]
  },
  {
   "cell_type": "code",
   "execution_count": 29,
   "metadata": {},
   "outputs": [],
   "source": [
    "import torch.nn.functional as F\n",
    "\n",
    "class Network(nn.Module):\n",
    "    def __init__(self):\n",
    "        super().__init__()\n",
    "        # Inputs to hidden layer linear transformation\n",
    "        self.hidden = nn.Linear(784, 256)\n",
    "        # Output layer, 10 units - one for each digit\n",
    "        self.output = nn.Linear(256, 10)\n",
    "        \n",
    "    def forward(self, x):\n",
    "        # Hidden layer with sigmoid activation\n",
    "        x = F.sigmoid(self.hidden(x))\n",
    "        # Output layer with softmax activation\n",
    "        x = F.softmax(self.output(x), dim=1)\n",
    "        \n",
    "        return x"
   ]
  },
  {
   "cell_type": "markdown",
   "metadata": {},
   "source": [
    "### Activation functions\n",
    "\n",
    "So far we've only been looking at the softmax activation, but in general any function can be used as an activation function. The only requirement is that for a network to approximate a non-linear function, the activation functions must be non-linear. Here are a few more examples of common activation functions: Tanh (hyperbolic tangent), and ReLU (rectified linear unit).\n",
    "\n",
    "<img src=\"assets/activation.png\" width=700px>\n",
    "\n",
    "In practice, the ReLU function is used almost exclusively as the activation function for hidden layers."
   ]
  },
  {
   "cell_type": "markdown",
   "metadata": {},
   "source": [
    "### Your Turn to Build a Network\n",
    "\n",
    "<img src=\"assets/mlp_mnist.png\" width=600px>\n",
    "\n",
    "> **Exercise:** Create a network with 784 input units, a hidden layer with 128 units and a ReLU activation, then a hidden layer with 64 units and a ReLU activation, and finally an output layer with a softmax activation as shown above. You can use a ReLU activation with the `nn.ReLU` module or `F.relu` function."
   ]
  },
  {
   "cell_type": "code",
   "execution_count": 30,
   "metadata": {
    "scrolled": true
   },
   "outputs": [
    {
     "data": {
      "text/plain": [
       "Network(\n",
       "  (fc1): Linear(in_features=784, out_features=128, bias=True)\n",
       "  (fc2): Linear(in_features=128, out_features=64, bias=True)\n",
       "  (output): Linear(in_features=64, out_features=10, bias=True)\n",
       ")"
      ]
     },
     "execution_count": 30,
     "metadata": {},
     "output_type": "execute_result"
    }
   ],
   "source": [
    "## Your solution here\n",
    "\n",
    "class Network(nn.Module):\n",
    "    def __init__(self):\n",
    "        super().__init__()\n",
    "        self.fc1 = nn.Linear(784, 128)\n",
    "        self.fc2 = nn.Linear(128, 64)\n",
    "        self.output = nn.Linear(64,10)\n",
    "    \n",
    "    def forward(self, x):\n",
    "        x = F.relu(self.fc1(x))\n",
    "        x = F.relu(self.fc2(x))\n",
    "        x = F.softmax(self.output(x), dim=1)\n",
    "        \n",
    "        \n",
    "model = Network()\n",
    "model"
   ]
  },
  {
   "cell_type": "markdown",
   "metadata": {},
   "source": [
    "### Initializing weights and biases\n",
    "\n",
    "The weights and such are automatically initialized for you, but it's possible to customize how they are initialized. The weights and biases are tensors attached to the layer you defined, you can get them with `model.fc1.weight` for instance."
   ]
  },
  {
   "cell_type": "code",
   "execution_count": 31,
   "metadata": {},
   "outputs": [
    {
     "name": "stdout",
     "output_type": "stream",
     "text": [
      "Parameter containing:\n",
      "tensor([[-0.0003,  0.0065, -0.0211,  ..., -0.0298, -0.0032,  0.0231],\n",
      "        [-0.0016, -0.0003, -0.0234,  ..., -0.0018, -0.0187, -0.0211],\n",
      "        [-0.0309, -0.0112,  0.0283,  ...,  0.0072, -0.0123, -0.0344],\n",
      "        ...,\n",
      "        [-0.0149,  0.0331,  0.0128,  ..., -0.0185,  0.0327,  0.0114],\n",
      "        [ 0.0346, -0.0278,  0.0130,  ..., -0.0014, -0.0298, -0.0216],\n",
      "        [-0.0295, -0.0100,  0.0063,  ..., -0.0283, -0.0061, -0.0317]],\n",
      "       requires_grad=True)\n",
      "Parameter containing:\n",
      "tensor([-0.0212, -0.0270, -0.0310, -0.0239, -0.0122,  0.0147,  0.0099,  0.0198,\n",
      "         0.0322,  0.0183, -0.0017, -0.0199,  0.0160,  0.0082,  0.0111,  0.0144,\n",
      "         0.0179,  0.0330, -0.0072,  0.0346, -0.0296,  0.0076,  0.0351, -0.0065,\n",
      "        -0.0297,  0.0013,  0.0029,  0.0106, -0.0034, -0.0235, -0.0295,  0.0035,\n",
      "         0.0357,  0.0128,  0.0096, -0.0234, -0.0171, -0.0009, -0.0227, -0.0038,\n",
      "         0.0335, -0.0172,  0.0297,  0.0236, -0.0175, -0.0063, -0.0313,  0.0242,\n",
      "        -0.0175,  0.0161,  0.0179, -0.0159, -0.0327, -0.0037, -0.0107, -0.0187,\n",
      "         0.0172, -0.0226, -0.0320, -0.0049, -0.0030, -0.0211,  0.0330, -0.0296,\n",
      "         0.0047, -0.0237, -0.0299,  0.0265,  0.0031,  0.0273, -0.0336,  0.0030,\n",
      "        -0.0026,  0.0062, -0.0232, -0.0113,  0.0003,  0.0262,  0.0042,  0.0113,\n",
      "        -0.0057, -0.0058,  0.0013, -0.0062, -0.0109,  0.0028,  0.0202,  0.0192,\n",
      "         0.0317, -0.0343, -0.0258,  0.0038, -0.0034, -0.0104,  0.0250,  0.0000,\n",
      "         0.0237,  0.0127,  0.0007, -0.0284, -0.0063, -0.0072, -0.0067, -0.0264,\n",
      "         0.0209, -0.0214,  0.0088, -0.0226,  0.0307,  0.0302,  0.0297, -0.0103,\n",
      "         0.0222,  0.0097, -0.0032, -0.0060, -0.0190, -0.0252,  0.0237, -0.0067,\n",
      "        -0.0318,  0.0185, -0.0134, -0.0328, -0.0275, -0.0023,  0.0088,  0.0120],\n",
      "       requires_grad=True)\n"
     ]
    }
   ],
   "source": [
    "print(model.fc1.weight)\n",
    "print(model.fc1.bias)"
   ]
  },
  {
   "cell_type": "markdown",
   "metadata": {},
   "source": [
    "For custom initialization, we want to modify these tensors in place. These are actually autograd *Variables*, so we need to get back the actual tensors with `model.fc1.weight.data`. Once we have the tensors, we can fill them with zeros (for biases) or random normal values."
   ]
  },
  {
   "cell_type": "code",
   "execution_count": 32,
   "metadata": {},
   "outputs": [
    {
     "data": {
      "text/plain": [
       "tensor([0., 0., 0., 0., 0., 0., 0., 0., 0., 0., 0., 0., 0., 0., 0., 0., 0., 0.,\n",
       "        0., 0., 0., 0., 0., 0., 0., 0., 0., 0., 0., 0., 0., 0., 0., 0., 0., 0.,\n",
       "        0., 0., 0., 0., 0., 0., 0., 0., 0., 0., 0., 0., 0., 0., 0., 0., 0., 0.,\n",
       "        0., 0., 0., 0., 0., 0., 0., 0., 0., 0., 0., 0., 0., 0., 0., 0., 0., 0.,\n",
       "        0., 0., 0., 0., 0., 0., 0., 0., 0., 0., 0., 0., 0., 0., 0., 0., 0., 0.,\n",
       "        0., 0., 0., 0., 0., 0., 0., 0., 0., 0., 0., 0., 0., 0., 0., 0., 0., 0.,\n",
       "        0., 0., 0., 0., 0., 0., 0., 0., 0., 0., 0., 0., 0., 0., 0., 0., 0., 0.,\n",
       "        0., 0.])"
      ]
     },
     "execution_count": 32,
     "metadata": {},
     "output_type": "execute_result"
    }
   ],
   "source": [
    "# Set biases to all zeros\n",
    "model.fc1.bias.data.fill_(0)"
   ]
  },
  {
   "cell_type": "code",
   "execution_count": 33,
   "metadata": {},
   "outputs": [
    {
     "data": {
      "text/plain": [
       "tensor([[ 0.0041, -0.0045,  0.0119,  ..., -0.0072,  0.0098,  0.0007],\n",
       "        [ 0.0146,  0.0026, -0.0006,  ...,  0.0003, -0.0081, -0.0022],\n",
       "        [-0.0020,  0.0097,  0.0060,  ...,  0.0058,  0.0054, -0.0147],\n",
       "        ...,\n",
       "        [-0.0117, -0.0045, -0.0152,  ..., -0.0008, -0.0119, -0.0076],\n",
       "        [ 0.0107, -0.0018, -0.0285,  ..., -0.0111, -0.0050,  0.0042],\n",
       "        [-0.0034, -0.0022, -0.0102,  ...,  0.0084,  0.0131, -0.0089]])"
      ]
     },
     "execution_count": 33,
     "metadata": {},
     "output_type": "execute_result"
    }
   ],
   "source": [
    "# sample from random normal with standard dev = 0.01\n",
    "model.fc1.weight.data.normal_(std=0.01)"
   ]
  },
  {
   "cell_type": "markdown",
   "metadata": {},
   "source": [
    "### Forward pass\n",
    "\n",
    "Now that we have a network, let's see what happens when we pass in an image."
   ]
  },
  {
   "cell_type": "code",
   "execution_count": 40,
   "metadata": {
    "scrolled": true
   },
   "outputs": [
    {
     "name": "stdout",
     "output_type": "stream",
     "text": [
      "torch.Size([1, 784])\n"
     ]
    },
    {
     "ename": "AttributeError",
     "evalue": "'NoneType' object has no attribute 'data'",
     "output_type": "error",
     "traceback": [
      "\u001b[1;31m---------------------------------------------------------------------------\u001b[0m",
      "\u001b[1;31mAttributeError\u001b[0m                            Traceback (most recent call last)",
      "\u001b[1;32m<ipython-input-40-20933aab9a32>\u001b[0m in \u001b[0;36m<module>\u001b[1;34m()\u001b[0m\n\u001b[0;32m     13\u001b[0m \u001b[1;33m\u001b[0m\u001b[0m\n\u001b[0;32m     14\u001b[0m \u001b[0mimg\u001b[0m \u001b[1;33m=\u001b[0m \u001b[0mimages\u001b[0m\u001b[1;33m[\u001b[0m\u001b[0mimg_idx\u001b[0m\u001b[1;33m]\u001b[0m\u001b[1;33m\u001b[0m\u001b[0m\n\u001b[1;32m---> 15\u001b[1;33m \u001b[0mhelper\u001b[0m\u001b[1;33m.\u001b[0m\u001b[0mview_classify\u001b[0m\u001b[1;33m(\u001b[0m\u001b[0mimg\u001b[0m\u001b[1;33m.\u001b[0m\u001b[0mview\u001b[0m\u001b[1;33m(\u001b[0m\u001b[1;36m1\u001b[0m\u001b[1;33m,\u001b[0m \u001b[1;36m28\u001b[0m\u001b[1;33m,\u001b[0m \u001b[1;36m28\u001b[0m\u001b[1;33m)\u001b[0m\u001b[1;33m,\u001b[0m \u001b[0mps\u001b[0m\u001b[1;33m)\u001b[0m\u001b[1;33m\u001b[0m\u001b[0m\n\u001b[0m",
      "\u001b[1;32mD:\\Udacity_PyTorch\\Lesson_4\\helper.py\u001b[0m in \u001b[0;36mview_classify\u001b[1;34m(img, ps, version)\u001b[0m\n\u001b[0;32m     68\u001b[0m     ''' Function for viewing an image and it's predicted classes.\n\u001b[0;32m     69\u001b[0m     '''\n\u001b[1;32m---> 70\u001b[1;33m     \u001b[0mps\u001b[0m \u001b[1;33m=\u001b[0m \u001b[0mps\u001b[0m\u001b[1;33m.\u001b[0m\u001b[0mdata\u001b[0m\u001b[1;33m.\u001b[0m\u001b[0mnumpy\u001b[0m\u001b[1;33m(\u001b[0m\u001b[1;33m)\u001b[0m\u001b[1;33m.\u001b[0m\u001b[0msqueeze\u001b[0m\u001b[1;33m(\u001b[0m\u001b[1;33m)\u001b[0m\u001b[1;33m\u001b[0m\u001b[0m\n\u001b[0m\u001b[0;32m     71\u001b[0m \u001b[1;33m\u001b[0m\u001b[0m\n\u001b[0;32m     72\u001b[0m     \u001b[0mfig\u001b[0m\u001b[1;33m,\u001b[0m \u001b[1;33m(\u001b[0m\u001b[0max1\u001b[0m\u001b[1;33m,\u001b[0m \u001b[0max2\u001b[0m\u001b[1;33m)\u001b[0m \u001b[1;33m=\u001b[0m \u001b[0mplt\u001b[0m\u001b[1;33m.\u001b[0m\u001b[0msubplots\u001b[0m\u001b[1;33m(\u001b[0m\u001b[0mfigsize\u001b[0m\u001b[1;33m=\u001b[0m\u001b[1;33m(\u001b[0m\u001b[1;36m6\u001b[0m\u001b[1;33m,\u001b[0m\u001b[1;36m9\u001b[0m\u001b[1;33m)\u001b[0m\u001b[1;33m,\u001b[0m \u001b[0mncols\u001b[0m\u001b[1;33m=\u001b[0m\u001b[1;36m2\u001b[0m\u001b[1;33m)\u001b[0m\u001b[1;33m\u001b[0m\u001b[0m\n",
      "\u001b[1;31mAttributeError\u001b[0m: 'NoneType' object has no attribute 'data'"
     ]
    }
   ],
   "source": [
    "# Grab some data \n",
    "dataiter = iter(trainloader)\n",
    "images, labels = dataiter.next()\n",
    "\n",
    "# Resize images into a 1D vector, new shape is (batch size, color channels, image pixels) \n",
    "images.resize_(64, 1, 784)\n",
    "# or images.resize_(images.shape[0], 1, 784) to automatically get batch size\n",
    "\n",
    "# Forward pass through the network\n",
    "img_idx = 0\n",
    "print(images[0,:].shape)\n",
    "ps = model.forward(images[img_idx,:])\n",
    "\n",
    "img = images[img_idx]\n",
    "helper.view_classify(img.view(1, 28, 28), ps)"
   ]
  },
  {
   "cell_type": "markdown",
   "metadata": {},
   "source": [
    "As you can see above, our network has basically no idea what this digit is. It's because we haven't trained it yet, all the weights are random!\n",
    "\n",
    "### Using `nn.Sequential`\n",
    "\n",
    "PyTorch provides a convenient way to build networks like this where a tensor is passed sequentially through operations, `nn.Sequential` ([documentation](https://pytorch.org/docs/master/nn.html#torch.nn.Sequential)). Using this to build the equivalent network:"
   ]
  },
  {
   "cell_type": "code",
   "execution_count": 43,
   "metadata": {},
   "outputs": [
    {
     "name": "stdout",
     "output_type": "stream",
     "text": [
      "Sequential(\n",
      "  (0): Linear(in_features=784, out_features=128, bias=True)\n",
      "  (1): ReLU()\n",
      "  (2): Linear(in_features=128, out_features=64, bias=True)\n",
      "  (3): ReLU()\n",
      "  (4): Linear(in_features=64, out_features=10, bias=True)\n",
      "  (5): Softmax()\n",
      ")\n"
     ]
    },
    {
     "data": {
      "image/png": "[encoded data removed]",
      "text/plain": [
       "<Figure size 432x648 with 2 Axes>"
      ]
     },
     "metadata": {
      "image/png": {
       "height": 224,
       "width": 423
      },
      "needs_background": "light"
     },
     "output_type": "display_data"
    }
   ],
   "source": [
    "# Hyperparameters for our network\n",
    "input_size = 784\n",
    "hidden_sizes = [128, 64]\n",
    "output_size = 10\n",
    "\n",
    "# Build a feed-forward network\n",
    "model = nn.Sequential(nn.Linear(input_size, hidden_sizes[0]),\n",
    "                      nn.ReLU(),\n",
    "                      nn.Linear(hidden_sizes[0], hidden_sizes[1]),\n",
    "                      nn.ReLU(),\n",
    "                      nn.Linear(hidden_sizes[1], output_size),\n",
    "                      nn.Softmax(dim=1))\n",
    "print(model)\n",
    "\n",
    "# Forward pass through the network and display output\n",
    "images, labels = next(iter(trainloader))\n",
    "images.resize_(images.shape[0], 1, 784)\n",
    "ps = model.forward(images[0,:])\n",
    "helper.view_classify(images[0].view(1, 28, 28), ps)"
   ]
  },
  {
   "cell_type": "markdown",
   "metadata": {},
   "source": [
    "Here our model is the same as before: 784 input units, a hidden layer with 128 units, ReLU activation, 64 unit hidden layer, another ReLU, then the output layer with 10 units, and the softmax output.\n",
    "\n",
    "The operations are availble by passing in the appropriate index. For example, if you want to get first Linear operation and look at the weights, you'd use `model[0]`."
   ]
  },
  {
   "cell_type": "code",
   "execution_count": 44,
   "metadata": {},
   "outputs": [
    {
     "name": "stdout",
     "output_type": "stream",
     "text": [
      "Linear(in_features=784, out_features=128, bias=True)\n"
     ]
    },
    {
     "data": {
      "text/plain": [
       "Parameter containing:\n",
       "tensor([[ 0.0147,  0.0234, -0.0218,  ..., -0.0081, -0.0018,  0.0340],\n",
       "        [ 0.0012,  0.0180, -0.0243,  ...,  0.0071, -0.0072,  0.0036],\n",
       "        [ 0.0110, -0.0129,  0.0142,  ..., -0.0244, -0.0148,  0.0048],\n",
       "        ...,\n",
       "        [ 0.0149, -0.0293,  0.0029,  ...,  0.0312, -0.0128,  0.0172],\n",
       "        [-0.0102,  0.0002,  0.0295,  ...,  0.0220,  0.0275, -0.0327],\n",
       "        [-0.0301,  0.0201,  0.0180,  ..., -0.0191, -0.0336,  0.0278]],\n",
       "       requires_grad=True)"
      ]
     },
     "execution_count": 44,
     "metadata": {},
     "output_type": "execute_result"
    }
   ],
   "source": [
    "print(model[0])\n",
    "model[0].weight"
   ]
  },
  {
   "cell_type": "markdown",
   "metadata": {},
   "source": [
    "You can also pass in an `OrderedDict` to name the individual layers and operations, instead of using incremental integers. Note that dictionary keys must be unique, so _each operation must have a different name_."
   ]
  },
  {
   "cell_type": "code",
   "execution_count": 45,
   "metadata": {},
   "outputs": [
    {
     "data": {
      "text/plain": [
       "Sequential(\n",
       "  (fc1): Linear(in_features=784, out_features=128, bias=True)\n",
       "  (relu1): ReLU()\n",
       "  (fc2): Linear(in_features=128, out_features=64, bias=True)\n",
       "  (relu2): ReLU()\n",
       "  (output): Linear(in_features=64, out_features=10, bias=True)\n",
       "  (softmax): Softmax()\n",
       ")"
      ]
     },
     "execution_count": 45,
     "metadata": {},
     "output_type": "execute_result"
    }
   ],
   "source": [
    "from collections import OrderedDict\n",
    "model = nn.Sequential(OrderedDict([\n",
    "                      ('fc1', nn.Linear(input_size, hidden_sizes[0])),\n",
    "                      ('relu1', nn.ReLU()),\n",
    "                      ('fc2', nn.Linear(hidden_sizes[0], hidden_sizes[1])),\n",
    "                      ('relu2', nn.ReLU()),\n",
    "                      ('output', nn.Linear(hidden_sizes[1], output_size)),\n",
    "                      ('softmax', nn.Softmax(dim=1))]))\n",
    "model"
   ]
  },
  {
   "cell_type": "markdown",
   "metadata": {},
   "source": [
    "Now you can access layers either by integer or the name"
   ]
  },
  {
   "cell_type": "code",
   "execution_count": 46,
   "metadata": {},
   "outputs": [
    {
     "name": "stdout",
     "output_type": "stream",
     "text": [
      "Linear(in_features=784, out_features=128, bias=True)\n",
      "Linear(in_features=784, out_features=128, bias=True)\n"
     ]
    }
   ],
   "source": [
    "print(model[0])\n",
    "print(model.fc1)"
   ]
  },
  {
   "cell_type": "markdown",
   "metadata": {},
   "source": [
    "In the next notebook, we'll see how we can train a neural network to accuractly predict the numbers appearing in the MNIST images."
   ]
  }
 ],
 "metadata": {
  "kernelspec": {
   "display_name": "Python 3",
   "language": "python",
   "name": "python3"
  },
  "language_info": {
   "codemirror_mode": {
    "name": "ipython",
    "version": 3
   },
   "file_extension": ".py",
   "mimetype": "text/x-python",
   "name": "python",
   "nbconvert_exporter": "python",
   "pygments_lexer": "ipython3",
   "version": "3.6.5"
  }
 },
 "nbformat": 4,
 "nbformat_minor": 2
}
