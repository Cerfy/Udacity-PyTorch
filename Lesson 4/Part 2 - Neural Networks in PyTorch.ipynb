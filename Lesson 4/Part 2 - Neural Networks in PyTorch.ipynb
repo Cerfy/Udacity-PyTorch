{
 "cells": [
  {
   "cell_type": "markdown",
   "metadata": {},
   "source": [
    "# Neural networks with PyTorch\n",
    "\n",
    "Deep learning networks tend to be massive with dozens or hundreds of layers, that's where the term \"deep\" comes from. You can build one of these deep networks using only weight matrices as we did in the previous notebook, but in general it's very cumbersome and difficult to implement. PyTorch has a nice module `nn` that provides a nice way to efficiently build large neural networks."
   ]
  },
  {
   "cell_type": "code",
   "execution_count": 22,
   "metadata": {},
   "outputs": [],
   "source": [
    "# Import necessary packages\n",
    "\n",
    "%matplotlib inline\n",
    "%config InlineBackend.figure_format = 'retina'\n",
    "\n",
    "import sys\n",
    "sys.path.append('.')\n",
    "\n",
    "import numpy as np\n",
    "import torch\n",
    "\n",
    "import helper\n",
    "\n",
    "import matplotlib.pyplot as plt"
   ]
  },
  {
   "cell_type": "markdown",
   "metadata": {},
   "source": [
    "\n",
    "Now we're going to build a larger network that can solve a (formerly) difficult problem, identifying text in an image. Here we'll use the MNIST dataset which consists of greyscale handwritten digits. Each image is 28x28 pixels, you can see a sample below\n",
    "\n",
    "<img src='assets/mnist.png'>\n",
    "\n",
    "Our goal is to build a neural network that can take one of these images and predict the digit in the image.\n",
    "\n",
    "First up, we need to get our dataset. This is provided through the `torchvision` package. The code below will download the MNIST dataset, then create training and test datasets for us. Don't worry too much about the details here, you'll learn more about this later."
   ]
  },
  {
   "cell_type": "code",
   "execution_count": 23,
   "metadata": {},
   "outputs": [],
   "source": [
    "### Run this cell\n",
    "\n",
    "from torchvision import datasets, transforms\n",
    "\n",
    "# Define a transform to normalize the data\n",
    "transform = transforms.Compose([transforms.ToTensor(),\n",
    "                              transforms.Normalize((0.5,), (0.5,)),\n",
    "                              ])\n",
    "\n",
    "# Download and load the training data\n",
    "trainset = datasets.MNIST('~/.pytorch/MNIST_data/', download=True, train=True, transform=transform)\n",
    "trainloader = torch.utils.data.DataLoader(trainset, batch_size=64, shuffle=True)"
   ]
  },
  {
   "cell_type": "markdown",
   "metadata": {},
   "source": [
    "We have the training data loaded into `trainloader` and we make that an iterator with `iter(trainloader)`. Later, we'll use this to loop through the dataset for training, like\n",
    "\n",
    "```python\n",
    "for image, label in trainloader:\n",
    "    ## do things with images and labels\n",
    "```\n",
    "\n",
    "You'll notice I created the `trainloader` with a batch size of 64, and `shuffle=True`. The batch size is the number of images we get in one iteration from the data loader and pass through our network, often called a *batch*. And `shuffle=True` tells it to shuffle the dataset every time we start going through the data loader again. But here I'm just grabbing the first batch so we can check out the data. We can see below that `images` is just a tensor with size `(64, 1, 28, 28)`. So, 64 images per batch, 1 color channel, and 28x28 images."
   ]
  },
  {
   "cell_type": "code",
   "execution_count": 24,
   "metadata": {},
   "outputs": [
    {
     "name": "stdout",
     "output_type": "stream",
     "text": [
      "<class 'torch.Tensor'>\n",
      "torch.Size([64, 1, 28, 28])\n",
      "torch.Size([64])\n"
     ]
    }
   ],
   "source": [
    "dataiter = iter(trainloader)\n",
    "images, labels = dataiter.next() # Loads the first batch\n",
    "print(type(images))\n",
    "print(images.shape)\n",
    "print(labels.shape)\n"
   ]
  },
  {
   "cell_type": "markdown",
   "metadata": {},
   "source": [
    "This is what one of the images looks like. "
   ]
  },
  {
   "cell_type": "code",
   "execution_count": 25,
   "metadata": {},
   "outputs": [
    {
     "data": {
      "image/png": "[encoded data removed]",
      "text/plain": [
       "<Figure size 432x288 with 1 Axes>"
      ]
     },
     "metadata": {
      "image/png": {
       "height": 250,
       "width": 253
      },
      "needs_background": "light"
     },
     "output_type": "display_data"
    }
   ],
   "source": [
    "plt.imshow(images[1].numpy().squeeze(), cmap='Greys_r'); # Squeeze removes dimensions with 1s # Index image [0] gives another image"
   ]
  },
  {
   "cell_type": "markdown",
   "metadata": {},
   "source": [
    "First, let's try to build a simple network for this dataset using weight matrices and matrix multiplications. Then, we'll see how to do it using PyTorch's `nn` module which provides a much more convenient and powerful method for defining network architectures.\n",
    "\n",
    "The networks you've seen so far are called *fully-connected* or *dense* networks. Each unit in one layer is connected to each unit in the next layer. In fully-connected networks, the input to each layer must be a one-dimensional vector (which can be stacked into a 2D tensor as a batch of multiple examples). However, our images are 28x28 2D tensors, so we need to convert them into 1D vectors. Thinking about sizes, we need to convert the batch of images with shape `(64, 1, 28, 28)` to a have a shape of `(64, 784)`, 784 is 28 times 28. This is typically called *flattening*, we flattened the 2D images into 1D vectors.\n",
    "\n",
    "Previously you built a network with one output unit. Here we need 10 output units, one for each digit. We want our network to predict the digit shown in an image, so what we'll do is calculate probabilities that the image is of any one digit or class. This ends up being a discrete probability distribution over the classes (digits) that tells us the most likely class for the image. That means we need 10 output units for the 10 classes (digits). We'll see how to convert the network output into a probability distribution next.\n",
    "\n",
    "> **Exercise:** Flatten the batch of images `images`. Then build a multi-layer network with 784 input units, 256 hidden units, and 10 output units using random tensors for the weights and biases. For now, use a sigmoid activation for the hidden layer. Leave the output layer without an activation, we'll add one that gives us a probability distribution next."
   ]
  },
  {
   "cell_type": "code",
   "execution_count": 26,
   "metadata": {},
   "outputs": [
    {
     "name": "stdout",
     "output_type": "stream",
     "text": [
      "torch.Size([64, 10])\n"
     ]
    }
   ],
   "source": [
    "n_input = 784 # Number of input units\n",
    "n_hidden = 256 # Number of Hidden units\n",
    "n_output = 10 # Number of output units\n",
    "\n",
    "\n",
    "W1 = torch.randn(n_input, n_hidden) # Weights from input layer to hidden\n",
    "W2 = torch.randn(n_hidden, n_output) # Weights from hidden layer to output\n",
    "\n",
    "B1 = torch.randn(64, n_hidden)\n",
    "B2 = torch.randn(64, n_output)\n",
    "\n",
    "flatten_image = images.view(64, 784)\n",
    "\n",
    "def sig_activation(x):\n",
    "    return 1/(1 + torch.exp(-x))\n",
    "\n",
    "H1 = sig_activation(torch.mm(flatten_image, W1) + B1)\n",
    "out = sig_activation(torch.mm(H1, W2) + B2)\n",
    "print(out.shape) # output of your network, should have shape (64,10)"
   ]
  },
  {
   "cell_type": "markdown",
   "metadata": {},
   "source": [
    "Now we have 10 outputs for our network. We want to pass in an image to our network and get out a probability distribution over the classes that tells us the likely class(es) the image belongs to. Something that looks like this:\n",
    "<img src='assets/image_distribution.png' width=500px>\n",
    "\n",
    "Here we see that the probability for each class is roughly the same. This is representing an untrained network, it hasn't seen any data yet so it just returns a uniform distribution with equal probabilities for each class.\n",
    "\n",
    "To calculate this probability distribution, we often use the [**softmax** function](https://en.wikipedia.org/wiki/Softmax_function). Mathematically this looks like\n",
    "\n",
    "$$\n",
    "\\Large \\sigma(x_i) = \\cfrac{e^{x_i}}{\\sum_k^K{e^{x_k}}}\n",
    "$$\n",
    "\n",
    "What this does is squish each input $x_i$ between 0 and 1 and normalizes the values to give you a proper probability distribution where the probabilites sum up to one.\n",
    "\n",
    "> **Exercise:** Implement a function `softmax` that performs the softmax calculation and returns probability distributions for each example in the batch. Note that you'll need to pay attention to the shapes when doing this. If you have a tensor `a` with shape `(64, 10)` and a tensor `b` with shape `(64,)`, doing `a/b` will give you an error because PyTorch will try to do the division across the columns (called broadcasting) but you'll get a size mismatch. The way to think about this is for each of the 64 examples, you only want to divide by one value, the sum in the denominator. So you need `b` to have a shape of `(64, 1)`. This way PyTorch will divide the 10 values in each row of `a` by the one value in each row of `b`. Pay attention to how you take the sum as well. You'll need to define the `dim` keyword in `torch.sum`. Setting `dim=0` takes the sum across the rows while `dim=1` takes the sum across the columns."
   ]
  },
  {
   "cell_type": "code",
   "execution_count": 27,
   "metadata": {},
   "outputs": [
    {
     "name": "stdout",
     "output_type": "stream",
     "text": [
      "torch.Size([64])\n"
     ]
    }
   ],
   "source": [
    "print(torch.sum(torch.exp(out), dim=1).shape)"
   ]
  },
  {
   "cell_type": "code",
   "execution_count": 28,
   "metadata": {},
   "outputs": [
    {
     "name": "stdout",
     "output_type": "stream",
     "text": [
      "tensor([[0.1218, 0.0541, 0.1448, 0.1469, 0.0971, 0.0556, 0.0541, 0.1470, 0.1246,\n",
      "         0.0541],\n",
      "        [0.0541, 0.0541, 0.1467, 0.0691, 0.1472, 0.1237, 0.0565, 0.1469, 0.1472,\n",
      "         0.0545],\n",
      "        [0.0632, 0.0563, 0.1530, 0.1470, 0.0965, 0.1446, 0.0563, 0.0737, 0.1530,\n",
      "         0.0563],\n",
      "        [0.1389, 0.0518, 0.1385, 0.1409, 0.0963, 0.0519, 0.0518, 0.1384, 0.1395,\n",
      "         0.0519],\n",
      "        [0.1260, 0.0504, 0.1304, 0.1304, 0.1102, 0.1259, 0.0480, 0.1003, 0.1304,\n",
      "         0.0480],\n",
      "        [0.0534, 0.0529, 0.1436, 0.1421, 0.1005, 0.1136, 0.0530, 0.1436, 0.1435,\n",
      "         0.0539],\n",
      "        [0.0640, 0.0595, 0.0769, 0.1370, 0.1618, 0.0596, 0.0595, 0.1603, 0.1618,\n",
      "         0.0595],\n",
      "        [0.0725, 0.0602, 0.1636, 0.0604, 0.0624, 0.1635, 0.0602, 0.1626, 0.1344,\n",
      "         0.0602],\n",
      "        [0.0496, 0.0496, 0.1335, 0.1329, 0.1342, 0.1306, 0.0561, 0.1291, 0.1348,\n",
      "         0.0496],\n",
      "        [0.1161, 0.0525, 0.1427, 0.0576, 0.0989, 0.1414, 0.0528, 0.1427, 0.1427,\n",
      "         0.0525],\n",
      "        [0.0586, 0.0585, 0.0604, 0.1568, 0.1517, 0.1584, 0.0585, 0.0797, 0.1590,\n",
      "         0.0585],\n",
      "        [0.1414, 0.0520, 0.0556, 0.0813, 0.1414, 0.1413, 0.0521, 0.1414, 0.1414,\n",
      "         0.0520],\n",
      "        [0.1432, 0.0527, 0.0568, 0.1431, 0.1148, 0.1364, 0.0528, 0.1042, 0.1432,\n",
      "         0.0527],\n",
      "        [0.1151, 0.0463, 0.1258, 0.1257, 0.1175, 0.1253, 0.0470, 0.1253, 0.1258,\n",
      "         0.0463],\n",
      "        [0.1424, 0.0562, 0.1179, 0.1527, 0.1527, 0.0562, 0.0789, 0.0597, 0.1272,\n",
      "         0.0562],\n",
      "        [0.0505, 0.0505, 0.1373, 0.1260, 0.1318, 0.1303, 0.0505, 0.1353, 0.1373,\n",
      "         0.0505],\n",
      "        [0.0695, 0.0560, 0.0629, 0.1516, 0.1488, 0.0719, 0.0795, 0.1521, 0.1517,\n",
      "         0.0560],\n",
      "        [0.1007, 0.0512, 0.1349, 0.1390, 0.1390, 0.1361, 0.0520, 0.0568, 0.1390,\n",
      "         0.0512],\n",
      "        [0.0589, 0.0589, 0.1003, 0.1103, 0.0868, 0.1596, 0.0589, 0.1589, 0.1481,\n",
      "         0.0594],\n",
      "        [0.0497, 0.0497, 0.1277, 0.1348, 0.1347, 0.1350, 0.0497, 0.1345, 0.1347,\n",
      "         0.0497],\n",
      "        [0.0603, 0.0603, 0.0635, 0.1283, 0.1640, 0.0656, 0.0697, 0.1638, 0.1640,\n",
      "         0.0603],\n",
      "        [0.1250, 0.0461, 0.1212, 0.1250, 0.1203, 0.1250, 0.0462, 0.1197, 0.1253,\n",
      "         0.0461],\n",
      "        [0.0565, 0.0563, 0.1530, 0.1530, 0.1529, 0.0574, 0.0633, 0.0602, 0.1530,\n",
      "         0.0944],\n",
      "        [0.0603, 0.0576, 0.0682, 0.1561, 0.1565, 0.1566, 0.0576, 0.0732, 0.1561,\n",
      "         0.0576],\n",
      "        [0.1562, 0.0577, 0.0594, 0.1337, 0.1495, 0.0591, 0.1121, 0.0578, 0.1568,\n",
      "         0.0577],\n",
      "        [0.1559, 0.0582, 0.1136, 0.1577, 0.0664, 0.0592, 0.0582, 0.1173, 0.1553,\n",
      "         0.0582],\n",
      "        [0.0494, 0.0494, 0.1307, 0.1344, 0.1337, 0.0738, 0.1259, 0.1218, 0.1314,\n",
      "         0.0494],\n",
      "        [0.0586, 0.0582, 0.1582, 0.1357, 0.0649, 0.0914, 0.0582, 0.1582, 0.1583,\n",
      "         0.0582],\n",
      "        [0.1037, 0.0491, 0.0849, 0.1330, 0.1335, 0.1307, 0.0491, 0.1333, 0.1335,\n",
      "         0.0491],\n",
      "        [0.0547, 0.0547, 0.1413, 0.0816, 0.1487, 0.0975, 0.0746, 0.1437, 0.1486,\n",
      "         0.0547],\n",
      "        [0.0553, 0.0553, 0.1200, 0.1488, 0.1504, 0.0559, 0.0583, 0.1503, 0.1504,\n",
      "         0.0553],\n",
      "        [0.0589, 0.0528, 0.1246, 0.1435, 0.1434, 0.0844, 0.0528, 0.1434, 0.1435,\n",
      "         0.0528],\n",
      "        [0.1129, 0.0504, 0.0506, 0.1370, 0.1368, 0.1367, 0.0542, 0.1341, 0.1370,\n",
      "         0.0504],\n",
      "        [0.0539, 0.0538, 0.1400, 0.1463, 0.0595, 0.1463, 0.0538, 0.1463, 0.1463,\n",
      "         0.0538],\n",
      "        [0.0722, 0.0722, 0.0920, 0.1961, 0.0818, 0.0726, 0.0722, 0.0727, 0.1960,\n",
      "         0.0722],\n",
      "        [0.0575, 0.0575, 0.0599, 0.1544, 0.1557, 0.1520, 0.0634, 0.1563, 0.0857,\n",
      "         0.0575],\n",
      "        [0.0793, 0.0493, 0.1336, 0.1338, 0.1111, 0.1338, 0.0493, 0.1268, 0.1339,\n",
      "         0.0493],\n",
      "        [0.0567, 0.0564, 0.1236, 0.1531, 0.0848, 0.1056, 0.0568, 0.1533, 0.1533,\n",
      "         0.0564],\n",
      "        [0.0577, 0.0539, 0.1466, 0.1394, 0.1315, 0.1456, 0.0670, 0.0577, 0.1466,\n",
      "         0.0539],\n",
      "        [0.0522, 0.0522, 0.1418, 0.1418, 0.1240, 0.1417, 0.0522, 0.1227, 0.1193,\n",
      "         0.0522],\n",
      "        [0.0535, 0.0535, 0.0541, 0.0956, 0.1455, 0.1431, 0.1104, 0.1452, 0.1455,\n",
      "         0.0535],\n",
      "        [0.0483, 0.0654, 0.1314, 0.1314, 0.1314, 0.1276, 0.0484, 0.1271, 0.1314,\n",
      "         0.0577],\n",
      "        [0.0819, 0.0463, 0.1044, 0.1258, 0.1257, 0.1017, 0.1238, 0.1189, 0.1253,\n",
      "         0.0463],\n",
      "        [0.0553, 0.0550, 0.1494, 0.1259, 0.0561, 0.1494, 0.0550, 0.1487, 0.1495,\n",
      "         0.0555],\n",
      "        [0.0677, 0.0507, 0.1299, 0.1302, 0.1257, 0.1203, 0.0507, 0.1365, 0.1377,\n",
      "         0.0507],\n",
      "        [0.0593, 0.0590, 0.0742, 0.0770, 0.1603, 0.1602, 0.0626, 0.1280, 0.1603,\n",
      "         0.0590],\n",
      "        [0.0598, 0.0534, 0.1289, 0.0634, 0.1452, 0.1426, 0.0626, 0.1453, 0.1453,\n",
      "         0.0535],\n",
      "        [0.0510, 0.0510, 0.1194, 0.1241, 0.1384, 0.1364, 0.0511, 0.1386, 0.1386,\n",
      "         0.0513],\n",
      "        [0.0580, 0.0578, 0.0666, 0.0825, 0.1569, 0.1572, 0.0579, 0.1480, 0.1572,\n",
      "         0.0578],\n",
      "        [0.0601, 0.0590, 0.0626, 0.1603, 0.1603, 0.0590, 0.0590, 0.1603, 0.1603,\n",
      "         0.0592],\n",
      "        [0.0542, 0.0542, 0.1473, 0.1417, 0.1427, 0.1473, 0.0542, 0.0566, 0.1472,\n",
      "         0.0547],\n",
      "        [0.0543, 0.0543, 0.1317, 0.1477, 0.1477, 0.0575, 0.0559, 0.1477, 0.1477,\n",
      "         0.0555],\n",
      "        [0.0612, 0.0562, 0.1528, 0.1528, 0.0820, 0.0766, 0.0562, 0.1527, 0.1528,\n",
      "         0.0567],\n",
      "        [0.0642, 0.0595, 0.1619, 0.1619, 0.0606, 0.1458, 0.0597, 0.0668, 0.1599,\n",
      "         0.0597],\n",
      "        [0.0565, 0.0565, 0.0637, 0.1079, 0.1495, 0.1432, 0.0589, 0.1536, 0.1536,\n",
      "         0.0565],\n",
      "        [0.0548, 0.0548, 0.1476, 0.1448, 0.1489, 0.0933, 0.0548, 0.0965, 0.1489,\n",
      "         0.0557],\n",
      "        [0.0636, 0.0578, 0.1220, 0.1569, 0.0587, 0.1569, 0.0578, 0.1113, 0.1572,\n",
      "         0.0578],\n",
      "        [0.0601, 0.0601, 0.0605, 0.1625, 0.1494, 0.1596, 0.0607, 0.1626, 0.0645,\n",
      "         0.0601],\n",
      "        [0.0503, 0.0503, 0.1292, 0.1299, 0.1367, 0.0779, 0.1365, 0.1026, 0.1363,\n",
      "         0.0503],\n",
      "        [0.0551, 0.0547, 0.1032, 0.1487, 0.0826, 0.1487, 0.0547, 0.1488, 0.1484,\n",
      "         0.0550],\n",
      "        [0.1362, 0.0520, 0.1353, 0.1402, 0.1374, 0.0949, 0.0520, 0.0633, 0.1367,\n",
      "         0.0520],\n",
      "        [0.0520, 0.0511, 0.0513, 0.1336, 0.1390, 0.1142, 0.1344, 0.1344, 0.1389,\n",
      "         0.0511],\n",
      "        [0.1235, 0.0455, 0.1232, 0.1236, 0.1230, 0.1225, 0.0455, 0.1235, 0.1233,\n",
      "         0.0464],\n",
      "        [0.0578, 0.0576, 0.1553, 0.1566, 0.0584, 0.0864, 0.0581, 0.1557, 0.1566,\n",
      "         0.0576]])\n",
      "torch.Size([64, 10])\n",
      "tensor([1.0000, 1.0000, 1.0000, 1.0000, 1.0000, 1.0000, 1.0000, 1.0000, 1.0000,\n",
      "        1.0000, 1.0000, 1.0000, 1.0000, 1.0000, 1.0000, 1.0000, 1.0000, 1.0000,\n",
      "        1.0000, 1.0000, 1.0000, 1.0000, 1.0000, 1.0000, 1.0000, 1.0000, 1.0000,\n",
      "        1.0000, 1.0000, 1.0000, 1.0000, 1.0000, 1.0000, 1.0000, 1.0000, 1.0000,\n",
      "        1.0000, 1.0000, 1.0000, 1.0000, 1.0000, 1.0000, 1.0000, 1.0000, 1.0000,\n",
      "        1.0000, 1.0000, 1.0000, 1.0000, 1.0000, 1.0000, 1.0000, 1.0000, 1.0000,\n",
      "        1.0000, 1.0000, 1.0000, 1.0000, 1.0000, 1.0000, 1.0000, 1.0000, 1.0000,\n",
      "        1.0000])\n",
      "torch.Size([64])\n"
     ]
    }
   ],
   "source": [
    "def softmax(x):\n",
    "    return torch.exp(x)/(torch.sum(torch.exp(x), dim=1)).view(-1, 1)\n",
    "\n",
    "\n",
    "# Here, out should be the output of the network in the previous excercise with shape (64,10)\n",
    "probabilities = softmax(out)\n",
    "\n",
    "# Does it have the right shape? Should be (64, 10)\n",
    "print(probabilities)\n",
    "print(probabilities.shape)\n",
    "# Does it sum to 1? YES!\n",
    "print(probabilities.sum(dim=1))\n",
    "print(probabilities.sum(dim=1).shape)"
   ]
  },
  {
   "cell_type": "markdown",
   "metadata": {},
   "source": [
    "## Building networks with PyTorch\n",
    "\n",
    "PyTorch provides a module `nn` that makes building networks much simpler. Here I'll show you how to build the same one as above with 784 inputs, 256 hidden units, 10 output units and a softmax output."
   ]
  },
  {
   "cell_type": "code",
   "execution_count": 29,
   "metadata": {},
   "outputs": [],
   "source": [
    "from torch import nn"
   ]
  },
  {
   "cell_type": "code",
   "execution_count": 30,
   "metadata": {},
   "outputs": [],
   "source": [
    "class Network(nn.Module):\n",
    "    def __init__(self):\n",
    "        super().__init__()\n",
    "        \n",
    "        # Inputs to hidden layer linear transformation\n",
    "        self.hidden = nn.Linear(784, 256)\n",
    "        # Output layer, 10 units - one for each digit\n",
    "        self.output = nn.Linear(256, 10)\n",
    "        \n",
    "        # Define sigmoid activation and softmax output \n",
    "        self.sigmoid = nn.Sigmoid()\n",
    "        self.softmax = nn.Softmax(dim=1)\n",
    "        \n",
    "    def forward(self, x):\n",
    "        # Pass the input tensor through each of our operations\n",
    "        x = self.hidden(x)\n",
    "        x = self.sigmoid(x)\n",
    "        x = self.output(x)\n",
    "        x = self.softmax(x)\n",
    "        \n",
    "        return x"
   ]
  },
  {
   "cell_type": "markdown",
   "metadata": {},
   "source": [
    "Let's go through this bit by bit.\n",
    "\n",
    "```python\n",
    "class Network(nn.Module):\n",
    "```\n",
    "\n",
    "Here we're inheriting from `nn.Module`. Combined with `super().__init__()` this creates a class that tracks the architecture and provides a lot of useful methods and attributes. It is mandatory to inherit from `nn.Module` when you're creating a class for your network. The name of the class itself can be anything.\n",
    "\n",
    "```python\n",
    "self.hidden = nn.Linear(784, 256)\n",
    "```\n",
    "\n",
    "This line creates a module for a linear transformation, $x\\mathbf{W} + b$, with 784 inputs and 256 outputs and assigns it to `self.hidden`. The module automatically creates the weight and bias tensors which we'll use in the `forward` method. You can access the weight and bias tensors once the network (`net`) is created with `net.hidden.weight` and `net.hidden.bias`.\n",
    "\n",
    "```python\n",
    "self.output = nn.Linear(256, 10)\n",
    "```\n",
    "\n",
    "Similarly, this creates another linear transformation with 256 inputs and 10 outputs.\n",
    "\n",
    "```python\n",
    "self.sigmoid = nn.Sigmoid()\n",
    "self.softmax = nn.Softmax(dim=1)\n",
    "```\n",
    "\n",
    "Here I defined operations for the sigmoid activation and softmax output. Setting `dim=1` in `nn.Softmax(dim=1)` calculates softmax across the columns.\n",
    "\n",
    "```python\n",
    "def forward(self, x):\n",
    "```\n",
    "\n",
    "PyTorch networks created with `nn.Module` must have a `forward` method defined. It takes in a tensor `x` and passes it through the operations you defined in the `__init__` method.\n",
    "\n",
    "```python\n",
    "x = self.hidden(x)\n",
    "x = self.sigmoid(x)\n",
    "x = self.output(x)\n",
    "x = self.softmax(x)\n",
    "```\n",
    "\n",
    "Here the input tensor `x` is passed through each operation a reassigned to `x`. We can see that the input tensor goes through the hidden layer, then a sigmoid function, then the output layer, and finally the softmax function. It doesn't matter what you name the variables here, as long as the inputs and outputs of the operations match the network architecture you want to build. The order in which you define things in the `__init__` method doesn't matter, but you'll need to sequence the operations correctly in the `forward` method.\n",
    "\n",
    "Now we can create a `Network` object."
   ]
  },
  {
   "cell_type": "code",
   "execution_count": 31,
   "metadata": {},
   "outputs": [
    {
     "data": {
      "text/plain": [
       "Network(\n",
       "  (hidden): Linear(in_features=784, out_features=256, bias=True)\n",
       "  (output): Linear(in_features=256, out_features=10, bias=True)\n",
       "  (sigmoid): Sigmoid()\n",
       "  (softmax): Softmax()\n",
       ")"
      ]
     },
     "execution_count": 31,
     "metadata": {},
     "output_type": "execute_result"
    }
   ],
   "source": [
    "# Create the network and look at it's text representation\n",
    "model = Network()\n",
    "model"
   ]
  },
  {
   "cell_type": "markdown",
   "metadata": {},
   "source": [
    "You can define the network somewhat more concisely and clearly using the `torch.nn.functional` module. This is the most common way you'll see networks defined as many operations are simple element-wise functions. We normally import this module as `F`, `import torch.nn.functional as F`."
   ]
  },
  {
   "cell_type": "code",
   "execution_count": 32,
   "metadata": {},
   "outputs": [],
   "source": [
    "import torch.nn.functional as F\n",
    "\n",
    "class Network(nn.Module):\n",
    "    def __init__(self):\n",
    "        super().__init__()\n",
    "        # Inputs to hidden layer linear transformation\n",
    "        self.hidden = nn.Linear(784, 256)\n",
    "        # Output layer, 10 units - one for each digit\n",
    "        self.output = nn.Linear(256, 10)\n",
    "        \n",
    "    def forward(self, x):\n",
    "        # Hidden layer with sigmoid activation\n",
    "        x = F.sigmoid(self.hidden(x))\n",
    "        # Output layer with softmax activation\n",
    "        x = F.softmax(self.output(x), dim=1)\n",
    "        \n",
    "        return x"
   ]
  },
  {
   "cell_type": "markdown",
   "metadata": {},
   "source": [
    "### Activation functions\n",
    "\n",
    "So far we've only been looking at the softmax activation, but in general any function can be used as an activation function. The only requirement is that for a network to approximate a non-linear function, the activation functions must be non-linear. Here are a few more examples of common activation functions: Tanh (hyperbolic tangent), and ReLU (rectified linear unit).\n",
    "\n",
    "<img src=\"assets/activation.png\" width=700px>\n",
    "\n",
    "In practice, the ReLU function is used almost exclusively as the activation function for hidden layers."
   ]
  },
  {
   "cell_type": "markdown",
   "metadata": {},
   "source": [
    "### Your Turn to Build a Network\n",
    "\n",
    "<img src=\"assets/mlp_mnist.png\" width=600px>\n",
    "\n",
    "> **Exercise:** Create a network with 784 input units, a hidden layer with 128 units and a ReLU activation, then a hidden layer with 64 units and a ReLU activation, and finally an output layer with a softmax activation as shown above. You can use a ReLU activation with the `nn.ReLU` module or `F.relu` function."
   ]
  },
  {
   "cell_type": "code",
   "execution_count": 33,
   "metadata": {
    "scrolled": true
   },
   "outputs": [
    {
     "data": {
      "text/plain": [
       "Network(\n",
       "  (fc1): Linear(in_features=784, out_features=128, bias=True)\n",
       "  (fc2): Linear(in_features=128, out_features=64, bias=True)\n",
       "  (output): Linear(in_features=64, out_features=10, bias=True)\n",
       ")"
      ]
     },
     "execution_count": 33,
     "metadata": {},
     "output_type": "execute_result"
    }
   ],
   "source": [
    "## Your solution here\n",
    "\n",
    "class Network(nn.Module):\n",
    "    def __init__(self):\n",
    "        super().__init__()\n",
    "        self.fc1 = nn.Linear(784, 128)\n",
    "        self.fc2 = nn.Linear(128, 64)\n",
    "        self.output = nn.Linear(64,10)\n",
    "    \n",
    "    def forward(self, x):\n",
    "        x = F.relu(self.fc1(x))\n",
    "        x = F.relu(self.fc2(x))\n",
    "        x = F.softmax(self.output(x), dim=1)\n",
    "        \n",
    "        \n",
    "model = Network()\n",
    "model"
   ]
  },
  {
   "cell_type": "markdown",
   "metadata": {},
   "source": [
    "### Initializing weights and biases\n",
    "\n",
    "The weights and such are automatically initialized for you, but it's possible to customize how they are initialized. The weights and biases are tensors attached to the layer you defined, you can get them with `model.fc1.weight` for instance."
   ]
  },
  {
   "cell_type": "code",
   "execution_count": 34,
   "metadata": {},
   "outputs": [
    {
     "name": "stdout",
     "output_type": "stream",
     "text": [
      "Parameter containing:\n",
      "tensor([[-0.0251,  0.0320,  0.0043,  ...,  0.0100, -0.0183,  0.0309],\n",
      "        [ 0.0202,  0.0109,  0.0250,  ...,  0.0093,  0.0136, -0.0347],\n",
      "        [-0.0215,  0.0276, -0.0321,  ..., -0.0294,  0.0078, -0.0101],\n",
      "        ...,\n",
      "        [ 0.0026,  0.0019, -0.0303,  ...,  0.0100, -0.0074, -0.0111],\n",
      "        [-0.0351,  0.0271,  0.0143,  ..., -0.0227, -0.0062, -0.0117],\n",
      "        [ 0.0019, -0.0340,  0.0057,  ..., -0.0031,  0.0164, -0.0034]],\n",
      "       requires_grad=True)\n",
      "Parameter containing:\n",
      "tensor([-0.0298, -0.0012, -0.0132, -0.0270,  0.0191, -0.0135, -0.0325, -0.0291,\n",
      "         0.0215,  0.0270,  0.0281, -0.0173, -0.0296, -0.0274,  0.0141, -0.0061,\n",
      "         0.0238,  0.0129, -0.0290,  0.0246,  0.0260, -0.0350, -0.0114, -0.0157,\n",
      "        -0.0102,  0.0149,  0.0315,  0.0057,  0.0241,  0.0095, -0.0003, -0.0060,\n",
      "        -0.0205, -0.0244, -0.0330,  0.0127, -0.0257,  0.0031, -0.0306,  0.0154,\n",
      "        -0.0320, -0.0341,  0.0318, -0.0185, -0.0279,  0.0281,  0.0206,  0.0083,\n",
      "         0.0327,  0.0352,  0.0342,  0.0291, -0.0158, -0.0215,  0.0269, -0.0117,\n",
      "        -0.0068, -0.0165,  0.0076, -0.0350, -0.0090, -0.0085,  0.0003, -0.0029,\n",
      "         0.0261,  0.0066,  0.0256,  0.0339, -0.0211,  0.0111,  0.0310, -0.0194,\n",
      "         0.0340, -0.0252, -0.0292,  0.0014, -0.0053, -0.0308, -0.0044, -0.0296,\n",
      "        -0.0164, -0.0266, -0.0254, -0.0226, -0.0007, -0.0233,  0.0085, -0.0194,\n",
      "        -0.0161, -0.0032, -0.0211,  0.0104,  0.0148, -0.0058, -0.0347,  0.0027,\n",
      "        -0.0282, -0.0026,  0.0253, -0.0340,  0.0218,  0.0029,  0.0261,  0.0211,\n",
      "         0.0297, -0.0249,  0.0335,  0.0195,  0.0214, -0.0244,  0.0226,  0.0117,\n",
      "        -0.0122, -0.0016,  0.0099, -0.0207,  0.0154,  0.0334, -0.0050,  0.0337,\n",
      "        -0.0014,  0.0126,  0.0316,  0.0259,  0.0057,  0.0339, -0.0320, -0.0334],\n",
      "       requires_grad=True)\n"
     ]
    }
   ],
   "source": [
    "print(model.fc1.weight)\n",
    "print(model.fc1.bias)"
   ]
  },
  {
   "cell_type": "markdown",
   "metadata": {},
   "source": [
    "For custom initialization, we want to modify these tensors in place. These are actually autograd *Variables*, so we need to get back the actual tensors with `model.fc1.weight.data`. Once we have the tensors, we can fill them with zeros (for biases) or random normal values."
   ]
  },
  {
   "cell_type": "code",
   "execution_count": 35,
   "metadata": {},
   "outputs": [
    {
     "data": {
      "text/plain": [
       "tensor([0., 0., 0., 0., 0., 0., 0., 0., 0., 0., 0., 0., 0., 0., 0., 0., 0., 0.,\n",
       "        0., 0., 0., 0., 0., 0., 0., 0., 0., 0., 0., 0., 0., 0., 0., 0., 0., 0.,\n",
       "        0., 0., 0., 0., 0., 0., 0., 0., 0., 0., 0., 0., 0., 0., 0., 0., 0., 0.,\n",
       "        0., 0., 0., 0., 0., 0., 0., 0., 0., 0., 0., 0., 0., 0., 0., 0., 0., 0.,\n",
       "        0., 0., 0., 0., 0., 0., 0., 0., 0., 0., 0., 0., 0., 0., 0., 0., 0., 0.,\n",
       "        0., 0., 0., 0., 0., 0., 0., 0., 0., 0., 0., 0., 0., 0., 0., 0., 0., 0.,\n",
       "        0., 0., 0., 0., 0., 0., 0., 0., 0., 0., 0., 0., 0., 0., 0., 0., 0., 0.,\n",
       "        0., 0.])"
      ]
     },
     "execution_count": 35,
     "metadata": {},
     "output_type": "execute_result"
    }
   ],
   "source": [
    "# Set biases to all zeros\n",
    "model.fc1.bias.data.fill_(0)"
   ]
  },
  {
   "cell_type": "code",
   "execution_count": 39,
   "metadata": {},
   "outputs": [
    {
     "data": {
      "text/plain": [
       "tensor([[ 0.0014,  0.0006, -0.0075,  ...,  0.0141, -0.0044, -0.0108],\n",
       "        [ 0.0032, -0.0043,  0.0004,  ..., -0.0050,  0.0062, -0.0044],\n",
       "        [-0.0098, -0.0174,  0.0025,  ...,  0.0031,  0.0054,  0.0078],\n",
       "        ...,\n",
       "        [ 0.0076, -0.0006, -0.0140,  ...,  0.0071,  0.0062, -0.0080],\n",
       "        [-0.0057,  0.0075,  0.0125,  ..., -0.0017, -0.0105, -0.0048],\n",
       "        [ 0.0066,  0.0017,  0.0099,  ..., -0.0076, -0.0079,  0.0074]])"
      ]
     },
     "execution_count": 39,
     "metadata": {},
     "output_type": "execute_result"
    }
   ],
   "source": [
    "# sample from random normal with standard dev = 0.01\n",
    "model.fc1.weight.data.normal_(std=0.01)"
   ]
  },
  {
   "cell_type": "markdown",
   "metadata": {},
   "source": [
    "### Forward pass\n",
    "\n",
    "Now that we have a network, let's see what happens when we pass in an image."
   ]
  },
  {
   "cell_type": "code",
   "execution_count": 47,
   "metadata": {
    "scrolled": true
   },
   "outputs": [
    {
     "data": {
      "image/png": "[encoded data removed]",
      "text/plain": [
       "<Figure size 432x648 with 2 Axes>"
      ]
     },
     "metadata": {
      "image/png": {
       "height": 224,
       "width": 423
      },
      "needs_background": "light"
     },
     "output_type": "display_data"
    }
   ],
   "source": [
    "# Grab some data \n",
    "dataiter = iter(trainloader)\n",
    "images, labels = dataiter.next()\n",
    "\n",
    "# Resize images into a 1D vector, new shape is (batch size, color channels, image pixels) \n",
    "images.resize_(64, 1, 784)\n",
    "# or images.resize_(images.shape[0], 1, 784) to automatically get batch size\n",
    "\n",
    "# Forward pass through the network\n",
    "img_idx = 0\n",
    "ps = model.forward(images[img_idx,:])\n",
    "\n",
    "img = images[img_idx]\n",
    "helper.view_classify(img.view(1, 28, 28), ps)"
   ]
  },
  {
   "cell_type": "markdown",
   "metadata": {},
   "source": [
    "As you can see above, our network has basically no idea what this digit is. It's because we haven't trained it yet, all the weights are random!\n",
    "\n",
    "### Using `nn.Sequential`\n",
    "\n",
    "PyTorch provides a convenient way to build networks like this where a tensor is passed sequentially through operations, `nn.Sequential` ([documentation](https://pytorch.org/docs/master/nn.html#torch.nn.Sequential)). Using this to build the equivalent network:"
   ]
  },
  {
   "cell_type": "code",
   "execution_count": 43,
   "metadata": {},
   "outputs": [
    {
     "name": "stdout",
     "output_type": "stream",
     "text": [
      "Sequential(\n",
      "  (0): Linear(in_features=784, out_features=128, bias=True)\n",
      "  (1): ReLU()\n",
      "  (2): Linear(in_features=128, out_features=64, bias=True)\n",
      "  (3): ReLU()\n",
      "  (4): Linear(in_features=64, out_features=10, bias=True)\n",
      "  (5): Softmax()\n",
      ")\n"
     ]
    },
    {
     "data": {
      "image/png": "[encoded data removed]",
      "text/plain": [
       "<Figure size 432x648 with 2 Axes>"
      ]
     },
     "metadata": {
      "image/png": {
       "height": 224,
       "width": 423
      },
      "needs_background": "light"
     },
     "output_type": "display_data"
    }
   ],
   "source": [
    "# Hyperparameters for our network\n",
    "input_size = 784\n",
    "hidden_sizes = [128, 64]\n",
    "output_size = 10\n",
    "\n",
    "# Build a feed-forward network\n",
    "model = nn.Sequential(nn.Linear(input_size, hidden_sizes[0]),\n",
    "                      nn.ReLU(),\n",
    "                      nn.Linear(hidden_sizes[0], hidden_sizes[1]),\n",
    "                      nn.ReLU(),\n",
    "                      nn.Linear(hidden_sizes[1], output_size),\n",
    "                      nn.Softmax(dim=1))\n",
    "print(model)\n",
    "\n",
    "# Forward pass through the network and display output\n",
    "images, labels = next(iter(trainloader))\n",
    "images.resize_(images.shape[0], 1, 784)\n",
    "ps = model.forward(images[0,:])\n",
    "helper.view_classify(images[0].view(1, 28, 28), ps)"
   ]
  },
  {
   "cell_type": "markdown",
   "metadata": {},
   "source": [
    "Here our model is the same as before: 784 input units, a hidden layer with 128 units, ReLU activation, 64 unit hidden layer, another ReLU, then the output layer with 10 units, and the softmax output.\n",
    "\n",
    "The operations are availble by passing in the appropriate index. For example, if you want to get first Linear operation and look at the weights, you'd use `model[0]`."
   ]
  },
  {
   "cell_type": "code",
   "execution_count": 44,
   "metadata": {},
   "outputs": [
    {
     "name": "stdout",
     "output_type": "stream",
     "text": [
      "Linear(in_features=784, out_features=128, bias=True)\n"
     ]
    },
    {
     "data": {
      "text/plain": [
       "Parameter containing:\n",
       "tensor([[ 0.0147,  0.0234, -0.0218,  ..., -0.0081, -0.0018,  0.0340],\n",
       "        [ 0.0012,  0.0180, -0.0243,  ...,  0.0071, -0.0072,  0.0036],\n",
       "        [ 0.0110, -0.0129,  0.0142,  ..., -0.0244, -0.0148,  0.0048],\n",
       "        ...,\n",
       "        [ 0.0149, -0.0293,  0.0029,  ...,  0.0312, -0.0128,  0.0172],\n",
       "        [-0.0102,  0.0002,  0.0295,  ...,  0.0220,  0.0275, -0.0327],\n",
       "        [-0.0301,  0.0201,  0.0180,  ..., -0.0191, -0.0336,  0.0278]],\n",
       "       requires_grad=True)"
      ]
     },
     "execution_count": 44,
     "metadata": {},
     "output_type": "execute_result"
    }
   ],
   "source": [
    "print(model[0])\n",
    "model[0].weight"
   ]
  },
  {
   "cell_type": "markdown",
   "metadata": {},
   "source": [
    "You can also pass in an `OrderedDict` to name the individual layers and operations, instead of using incremental integers. Note that dictionary keys must be unique, so _each operation must have a different name_."
   ]
  },
  {
   "cell_type": "code",
   "execution_count": 45,
   "metadata": {},
   "outputs": [
    {
     "data": {
      "text/plain": [
       "Sequential(\n",
       "  (fc1): Linear(in_features=784, out_features=128, bias=True)\n",
       "  (relu1): ReLU()\n",
       "  (fc2): Linear(in_features=128, out_features=64, bias=True)\n",
       "  (relu2): ReLU()\n",
       "  (output): Linear(in_features=64, out_features=10, bias=True)\n",
       "  (softmax): Softmax()\n",
       ")"
      ]
     },
     "execution_count": 45,
     "metadata": {},
     "output_type": "execute_result"
    }
   ],
   "source": [
    "from collections import OrderedDict\n",
    "model = nn.Sequential(OrderedDict([\n",
    "                      ('fc1', nn.Linear(input_size, hidden_sizes[0])),\n",
    "                      ('relu1', nn.ReLU()),\n",
    "                      ('fc2', nn.Linear(hidden_sizes[0], hidden_sizes[1])),\n",
    "                      ('relu2', nn.ReLU()),\n",
    "                      ('output', nn.Linear(hidden_sizes[1], output_size)),\n",
    "                      ('softmax', nn.Softmax(dim=1))]))\n",
    "model"
   ]
  },
  {
   "cell_type": "markdown",
   "metadata": {},
   "source": [
    "Now you can access layers either by integer or the name"
   ]
  },
  {
   "cell_type": "code",
   "execution_count": 46,
   "metadata": {},
   "outputs": [
    {
     "name": "stdout",
     "output_type": "stream",
     "text": [
      "Linear(in_features=784, out_features=128, bias=True)\n",
      "Linear(in_features=784, out_features=128, bias=True)\n"
     ]
    }
   ],
   "source": [
    "print(model[0])\n",
    "print(model.fc1)"
   ]
  },
  {
   "cell_type": "markdown",
   "metadata": {},
   "source": [
    "In the next notebook, we'll see how we can train a neural network to accuractly predict the numbers appearing in the MNIST images."
   ]
  }
 ],
 "metadata": {
  "kernelspec": {
   "display_name": "Python 3",
   "language": "python",
   "name": "python3"
  },
  "language_info": {
   "codemirror_mode": {
    "name": "ipython",
    "version": 3
   },
   "file_extension": ".py",
   "mimetype": "text/x-python",
   "name": "python",
   "nbconvert_exporter": "python",
   "pygments_lexer": "ipython3",
   "version": "3.6.5"
  }
 },
 "nbformat": 4,
 "nbformat_minor": 2
}
